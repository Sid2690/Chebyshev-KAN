{
 "cells": [
  {
   "cell_type": "code",
   "execution_count": 1,
   "id": "1ef5cfd5",
   "metadata": {
    "_cell_guid": "b1076dfc-b9ad-4769-8c92-a6c4dae69d19",
    "_uuid": "8f2839f25d086af736a60e9eeb907d3b93b6e0e5",
    "execution": {
     "iopub.execute_input": "2024-05-26T14:43:25.695986Z",
     "iopub.status.busy": "2024-05-26T14:43:25.695597Z",
     "iopub.status.idle": "2024-05-26T14:43:41.985975Z",
     "shell.execute_reply": "2024-05-26T14:43:41.984457Z"
    },
    "papermill": {
     "duration": 16.297425,
     "end_time": "2024-05-26T14:43:41.988476",
     "exception": false,
     "start_time": "2024-05-26T14:43:25.691051",
     "status": "completed"
    },
    "tags": []
   },
   "outputs": [
    {
     "name": "stdout",
     "output_type": "stream",
     "text": [
      "Downloading http://yann.lecun.com/exdb/mnist/train-images-idx3-ubyte.gz\n",
      "Failed to download (trying next):\n",
      "HTTP Error 403: Forbidden\n",
      "\n",
      "Downloading https://ossci-datasets.s3.amazonaws.com/mnist/train-images-idx3-ubyte.gz\n",
      "Downloading https://ossci-datasets.s3.amazonaws.com/mnist/train-images-idx3-ubyte.gz to ./data/MNIST/raw/train-images-idx3-ubyte.gz\n"
     ]
    },
    {
     "name": "stderr",
     "output_type": "stream",
     "text": [
      "100%|██████████| 9912422/9912422 [00:01<00:00, 5364468.08it/s]\n"
     ]
    },
    {
     "name": "stdout",
     "output_type": "stream",
     "text": [
      "Extracting ./data/MNIST/raw/train-images-idx3-ubyte.gz to ./data/MNIST/raw\n",
      "\n",
      "Downloading http://yann.lecun.com/exdb/mnist/train-labels-idx1-ubyte.gz\n",
      "Failed to download (trying next):\n",
      "HTTP Error 403: Forbidden\n",
      "\n",
      "Downloading https://ossci-datasets.s3.amazonaws.com/mnist/train-labels-idx1-ubyte.gz\n",
      "Downloading https://ossci-datasets.s3.amazonaws.com/mnist/train-labels-idx1-ubyte.gz to ./data/MNIST/raw/train-labels-idx1-ubyte.gz\n"
     ]
    },
    {
     "name": "stderr",
     "output_type": "stream",
     "text": [
      "100%|██████████| 28881/28881 [00:00<00:00, 156037.15it/s]\n"
     ]
    },
    {
     "name": "stdout",
     "output_type": "stream",
     "text": [
      "Extracting ./data/MNIST/raw/train-labels-idx1-ubyte.gz to ./data/MNIST/raw\n",
      "\n",
      "Downloading http://yann.lecun.com/exdb/mnist/t10k-images-idx3-ubyte.gz\n",
      "Failed to download (trying next):\n",
      "HTTP Error 403: Forbidden\n",
      "\n",
      "Downloading https://ossci-datasets.s3.amazonaws.com/mnist/t10k-images-idx3-ubyte.gz\n",
      "Downloading https://ossci-datasets.s3.amazonaws.com/mnist/t10k-images-idx3-ubyte.gz to ./data/MNIST/raw/t10k-images-idx3-ubyte.gz\n"
     ]
    },
    {
     "name": "stderr",
     "output_type": "stream",
     "text": [
      "100%|██████████| 1648877/1648877 [00:01<00:00, 1269676.33it/s]\n"
     ]
    },
    {
     "name": "stdout",
     "output_type": "stream",
     "text": [
      "Extracting ./data/MNIST/raw/t10k-images-idx3-ubyte.gz to ./data/MNIST/raw\n",
      "\n",
      "Downloading http://yann.lecun.com/exdb/mnist/t10k-labels-idx1-ubyte.gz\n",
      "Failed to download (trying next):\n",
      "HTTP Error 403: Forbidden\n",
      "\n",
      "Downloading https://ossci-datasets.s3.amazonaws.com/mnist/t10k-labels-idx1-ubyte.gz\n",
      "Downloading https://ossci-datasets.s3.amazonaws.com/mnist/t10k-labels-idx1-ubyte.gz to ./data/MNIST/raw/t10k-labels-idx1-ubyte.gz\n"
     ]
    },
    {
     "name": "stderr",
     "output_type": "stream",
     "text": [
      "100%|██████████| 4542/4542 [00:00<00:00, 2746616.03it/s]"
     ]
    },
    {
     "name": "stdout",
     "output_type": "stream",
     "text": [
      "Extracting ./data/MNIST/raw/t10k-labels-idx1-ubyte.gz to ./data/MNIST/raw\n",
      "\n"
     ]
    },
    {
     "name": "stderr",
     "output_type": "stream",
     "text": [
      "\n"
     ]
    }
   ],
   "source": [
    "import torch\n",
    "import torch.nn as nn\n",
    "import torch.optim as optim\n",
    "from torchvision import datasets, transforms\n",
    "from torch.utils.data import DataLoader\n",
    "import matplotlib.pyplot as plt\n",
    "import numpy as np\n",
    "\n",
    "class ChebyshevKANLayer(nn.Module):\n",
    "    def __init__(self, input_dim, output_dim, degree):\n",
    "        super(ChebyshevKANLayer, self).__init__()\n",
    "        self.inputdim = input_dim\n",
    "        self.outdim = output_dim\n",
    "        self.degree = degree\n",
    "\n",
    "        self.cheby_coeffs = nn.Parameter(torch.empty(input_dim, output_dim, degree + 1))\n",
    "        nn.init.xavier_normal_(self.cheby_coeffs)\n",
    "        self.register_buffer(\"arange\", torch.arange(0, degree + 1, 1))\n",
    "\n",
    "    def chebyshev_polynomials(self, x):\n",
    "        T = [torch.ones_like(x), x]\n",
    "        for n in range(2, self.degree + 1):\n",
    "            T.append(2 * x * T[n - 1] - T[n - 2])\n",
    "        return torch.stack(T, dim=-1)\n",
    "\n",
    "    def forward(self, x):\n",
    "        x = x.view(-1, self.inputdim)\n",
    "        x = 2 * (x - x.min(dim=1, keepdim=True)[0]) / (x.max(dim=1, keepdim=True)[0] - x.min(dim=1, keepdim=True)[0]) - 1\n",
    "        T = self.chebyshev_polynomials(x)\n",
    "        y = torch.einsum(\"bij,ioj->bo\", T, self.cheby_coeffs)\n",
    "        y = y.view(-1, self.outdim)\n",
    "        return y\n",
    "\n",
    "class ChebyshevKANAutoencoder(nn.Module):\n",
    "    def __init__(self, degree):\n",
    "        super(ChebyshevKANAutoencoder, self).__init__()\n",
    "        self.encoder = ChebyshevKANLayer(28 * 28, 64, degree)\n",
    "        self.decoder = ChebyshevKANLayer(64, 28 * 28, degree)\n",
    "        self.relu = nn.ReLU()\n",
    "        self.sigmoid = nn.Sigmoid()\n",
    "\n",
    "    def forward(self, x):\n",
    "        x = x.view(x.size(0), -1)\n",
    "        encoded = self.relu(self.encoder(x))\n",
    "        decoded = self.sigmoid(self.decoder(encoded))\n",
    "        return encoded, decoded.view(-1, 1, 28, 28)\n",
    "\n",
    "# Hyperparameters\n",
    "learning_rate = 0.001\n",
    "batch_size = 128\n",
    "degree = 2\n",
    "epochs = 50\n",
    "\n",
    "# Data loading and transformations\n",
    "transform = transforms.Compose([\n",
    "    transforms.ToTensor()\n",
    "])\n",
    "\n",
    "train_dataset = datasets.MNIST(root='./data', train=True, download=True, transform=transform)\n",
    "test_dataset = datasets.MNIST(root='./data', train=False, download=True, transform=transform)\n",
    "\n",
    "train_loader = DataLoader(train_dataset, batch_size=batch_size, shuffle=True)\n",
    "test_loader = DataLoader(test_dataset, batch_size=batch_size, shuffle=False)\n",
    "\n",
    "device = torch.device(\"cuda\" if torch.cuda.is_available() else \"cpu\")\n",
    "\n",
    "# Initialize the model, criterion, and optimizer\n",
    "model = ChebyshevKANAutoencoder(degree).to(device)\n",
    "criterion = nn.MSELoss()\n",
    "optimizer = optim.Adam(model.parameters(), lr=learning_rate)\n"
   ]
  },
  {
   "cell_type": "code",
   "execution_count": 2,
   "id": "e662d934",
   "metadata": {
    "execution": {
     "iopub.execute_input": "2024-05-26T14:43:42.000715Z",
     "iopub.status.busy": "2024-05-26T14:43:42.000213Z",
     "iopub.status.idle": "2024-05-26T14:52:05.850237Z",
     "shell.execute_reply": "2024-05-26T14:52:05.849091Z"
    },
    "papermill": {
     "duration": 503.85871,
     "end_time": "2024-05-26T14:52:05.852556",
     "exception": false,
     "start_time": "2024-05-26T14:43:41.993846",
     "status": "completed"
    },
    "tags": []
   },
   "outputs": [
    {
     "name": "stdout",
     "output_type": "stream",
     "text": [
      "Epoch 1, Train Loss: 0.0463\n",
      "Epoch 2, Train Loss: 0.0264\n",
      "Epoch 3, Train Loss: 0.0212\n",
      "Epoch 4, Train Loss: 0.0186\n",
      "Epoch 5, Train Loss: 0.0170\n",
      "Epoch 6, Train Loss: 0.0160\n",
      "Epoch 7, Train Loss: 0.0152\n",
      "Epoch 8, Train Loss: 0.0147\n",
      "Epoch 9, Train Loss: 0.0142\n",
      "Epoch 10, Train Loss: 0.0139\n",
      "Epoch 11, Train Loss: 0.0136\n",
      "Epoch 12, Train Loss: 0.0134\n",
      "Epoch 13, Train Loss: 0.0132\n",
      "Epoch 14, Train Loss: 0.0130\n",
      "Epoch 15, Train Loss: 0.0129\n",
      "Epoch 16, Train Loss: 0.0127\n",
      "Epoch 17, Train Loss: 0.0126\n",
      "Epoch 18, Train Loss: 0.0125\n",
      "Epoch 19, Train Loss: 0.0124\n",
      "Epoch 20, Train Loss: 0.0123\n",
      "Epoch 21, Train Loss: 0.0123\n",
      "Epoch 22, Train Loss: 0.0122\n",
      "Epoch 23, Train Loss: 0.0121\n",
      "Epoch 24, Train Loss: 0.0121\n",
      "Epoch 25, Train Loss: 0.0120\n",
      "Epoch 26, Train Loss: 0.0120\n",
      "Epoch 27, Train Loss: 0.0119\n",
      "Epoch 28, Train Loss: 0.0119\n",
      "Epoch 29, Train Loss: 0.0118\n",
      "Epoch 30, Train Loss: 0.0118\n",
      "Epoch 31, Train Loss: 0.0117\n",
      "Epoch 32, Train Loss: 0.0117\n",
      "Epoch 33, Train Loss: 0.0117\n",
      "Epoch 34, Train Loss: 0.0117\n",
      "Epoch 35, Train Loss: 0.0116\n",
      "Epoch 36, Train Loss: 0.0116\n",
      "Epoch 37, Train Loss: 0.0116\n",
      "Epoch 38, Train Loss: 0.0115\n",
      "Epoch 39, Train Loss: 0.0115\n",
      "Epoch 40, Train Loss: 0.0115\n",
      "Epoch 41, Train Loss: 0.0115\n",
      "Epoch 42, Train Loss: 0.0114\n",
      "Epoch 43, Train Loss: 0.0114\n",
      "Epoch 44, Train Loss: 0.0114\n",
      "Epoch 45, Train Loss: 0.0114\n",
      "Epoch 46, Train Loss: 0.0114\n",
      "Epoch 47, Train Loss: 0.0113\n",
      "Epoch 48, Train Loss: 0.0113\n",
      "Epoch 49, Train Loss: 0.0113\n",
      "Epoch 50, Train Loss: 0.0113\n"
     ]
    }
   ],
   "source": [
    "# Training function\n",
    "def train(model, train_loader, criterion, optimizer, device):\n",
    "    model.train()\n",
    "    total_loss = 0\n",
    "    for data, _ in train_loader:\n",
    "        data = data.to(device)\n",
    "        optimizer.zero_grad()\n",
    "        encoded, decoded = model(data)\n",
    "        loss = criterion(decoded, data)\n",
    "        loss.backward()\n",
    "        optimizer.step()\n",
    "        total_loss += loss.item()\n",
    "    return total_loss / len(train_loader)\n",
    "\n",
    "# Training loop\n",
    "train_losses = []\n",
    "\n",
    "for epoch in range(epochs):\n",
    "    train_loss = train(model, train_loader, criterion, optimizer, device)\n",
    "    train_losses.append(train_loss)\n",
    "    print(f'Epoch {epoch + 1}, Train Loss: {train_loss:.4f}')"
   ]
  },
  {
   "cell_type": "code",
   "execution_count": 3,
   "id": "efa673a3",
   "metadata": {
    "execution": {
     "iopub.execute_input": "2024-05-26T14:52:05.871430Z",
     "iopub.status.busy": "2024-05-26T14:52:05.871065Z",
     "iopub.status.idle": "2024-05-26T14:52:06.174103Z",
     "shell.execute_reply": "2024-05-26T14:52:06.172671Z"
    },
    "papermill": {
     "duration": 0.315203,
     "end_time": "2024-05-26T14:52:06.176548",
     "exception": false,
     "start_time": "2024-05-26T14:52:05.861345",
     "status": "completed"
    },
    "tags": []
   },
   "outputs": [
    {
     "data": {
      "image/png": "[encoded data removed]",
      "text/plain": [
       "<Figure size 640x480 with 1 Axes>"
      ]
     },
     "metadata": {},
     "output_type": "display_data"
    }
   ],
   "source": [
    "plt.plot(train_losses)\n",
    "plt.title('Model Loss')\n",
    "plt.ylabel('Loss')\n",
    "plt.xlabel('Epoch')\n",
    "plt.legend(['Train'], loc='upper left')\n",
    "plt.show()\n"
   ]
  },
  {
   "cell_type": "code",
   "execution_count": 4,
   "id": "0e490d74",
   "metadata": {
    "execution": {
     "iopub.execute_input": "2024-05-26T14:52:06.196113Z",
     "iopub.status.busy": "2024-05-26T14:52:06.195738Z",
     "iopub.status.idle": "2024-05-26T14:52:07.724148Z",
     "shell.execute_reply": "2024-05-26T14:52:07.722955Z"
    },
    "papermill": {
     "duration": 1.541445,
     "end_time": "2024-05-26T14:52:07.726946",
     "exception": false,
     "start_time": "2024-05-26T14:52:06.185501",
     "status": "completed"
    },
    "tags": []
   },
   "outputs": [
    {
     "data": {
      "image/png": "[encoded data removed]",
      "text/plain": [
       "<Figure size 1500x500 with 30 Axes>"
      ]
     },
     "metadata": {},
     "output_type": "display_data"
    }
   ],
   "source": [
    "# Function to display results\n",
    "def display_results(disp_input_images, disp_encoded, disp_predicted, enc_shape=(8, 8)):\n",
    "    plt.figure(figsize=(15, 5))\n",
    "    display_one_row(disp_input_images, 0, shape=(28, 28,))\n",
    "    display_one_row(disp_encoded, 10, shape=enc_shape)\n",
    "    display_one_row(disp_predicted, 20, shape=(28, 28,))\n",
    "\n",
    "def display_one_row(disp_images, offset, shape=(28, 28)):\n",
    "    for idx, test_image in enumerate(disp_images):\n",
    "        plt.subplot(3, 10, offset + idx + 1)\n",
    "        plt.xticks([])\n",
    "        plt.yticks([])\n",
    "        test_image = test_image.cpu().numpy().reshape(shape)\n",
    "        plt.imshow(test_image, cmap='gray')\n",
    "\n",
    "# Sample data from test_loader\n",
    "dataiter = iter(test_loader)\n",
    "images, _ = next(dataiter)\n",
    "images = images.to(device)\n",
    "\n",
    "# Get encoded and decoded images\n",
    "model.eval()\n",
    "with torch.no_grad():\n",
    "    encoded, decoded = model(images)\n",
    "\n",
    "# Select a few random samples for visualization\n",
    "idxs = np.random.choice(images.size(0), size=10, replace=False)\n",
    "disp_input_images = images[idxs]\n",
    "disp_encoded = encoded[idxs]\n",
    "disp_predicted = decoded[idxs]\n",
    "\n",
    "display_results(disp_input_images, disp_encoded, disp_predicted)"
   ]
  },
  {
   "cell_type": "code",
   "execution_count": null,
   "id": "9a22fce1",
   "metadata": {
    "papermill": {
     "duration": 0.008889,
     "end_time": "2024-05-26T14:52:07.745385",
     "exception": false,
     "start_time": "2024-05-26T14:52:07.736496",
     "status": "completed"
    },
    "tags": []
   },
   "outputs": [],
   "source": []
  }
 ],
 "metadata": {
  "kaggle": {
   "accelerator": "none",
   "dataSources": [],
   "dockerImageVersionId": 30698,
   "isGpuEnabled": false,
   "isInternetEnabled": true,
   "language": "python",
   "sourceType": "notebook"
  },
  "kernelspec": {
   "display_name": "Python 3",
   "language": "python",
   "name": "python3"
  },
  "language_info": {
   "codemirror_mode": {
    "name": "ipython",
    "version": 3
   },
   "file_extension": ".py",
   "mimetype": "text/x-python",
   "name": "python",
   "nbconvert_exporter": "python",
   "pygments_lexer": "ipython3",
   "version": "3.10.13"
  },
  "papermill": {
   "default_parameters": {},
   "duration": 526.017509,
   "end_time": "2024-05-26T14:52:08.978264",
   "environment_variables": {},
   "exception": null,
   "input_path": "__notebook__.ipynb",
   "output_path": "__notebook__.ipynb",
   "parameters": {},
   "start_time": "2024-05-26T14:43:22.960755",
   "version": "2.5.0"
  }
 },
 "nbformat": 4,
 "nbformat_minor": 5
}
