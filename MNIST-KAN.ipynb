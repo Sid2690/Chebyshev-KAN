{
 "cells": [
  {
   "cell_type": "code",
   "execution_count": 1,
   "id": "82971ed8",
   "metadata": {
    "_cell_guid": "b1076dfc-b9ad-4769-8c92-a6c4dae69d19",
    "_uuid": "8f2839f25d086af736a60e9eeb907d3b93b6e0e5",
    "execution": {
     "iopub.execute_input": "2024-05-23T11:45:44.521384Z",
     "iopub.status.busy": "2024-05-23T11:45:44.521004Z",
     "iopub.status.idle": "2024-05-23T11:45:50.980201Z",
     "shell.execute_reply": "2024-05-23T11:45:50.979108Z"
    },
    "papermill": {
     "duration": 6.466703,
     "end_time": "2024-05-23T11:45:50.982895",
     "exception": false,
     "start_time": "2024-05-23T11:45:44.516192",
     "status": "completed"
    },
    "tags": []
   },
   "outputs": [],
   "source": [
    "import torch\n",
    "import torch.nn as nn\n",
    "import torch.optim as optim\n",
    "from torchvision import datasets, transforms\n",
    "from torch.utils.data import DataLoader\n",
    "import itertools\n",
    "\n",
    "# Define the ChebyshevKANLayer class\n",
    "class ChebyshevKANLayer(nn.Module):\n",
    "    def __init__(self, input_dim, output_dim, degree):\n",
    "        super(ChebyshevKANLayer, self).__init__()\n",
    "        self.inputdim = input_dim\n",
    "        self.outdim = output_dim\n",
    "        self.degree = degree\n",
    "\n",
    "        self.cheby_coeffs = nn.Parameter(torch.empty(input_dim, output_dim, degree + 1))\n",
    "        nn.init.xavier_normal_(self.cheby_coeffs)\n",
    "        self.register_buffer(\"arange\", torch.arange(0, degree + 1, 1))\n",
    "\n",
    "    def chebyshev_polynomials(self, x):\n",
    "        T = [torch.ones_like(x), x]\n",
    "        for n in range(2, self.degree + 1):\n",
    "            T.append(2 * x * T[n - 1] - T[n - 2])\n",
    "        return torch.stack(T, dim=-1)\n",
    "\n",
    "    def forward(self, x):\n",
    "        x = x.view(-1, self.inputdim)\n",
    "        T = self.chebyshev_polynomials(x)\n",
    "        y = torch.einsum(\"bij,ioj->bo\", T, self.cheby_coeffs)\n",
    "        y = y.view(-1, self.outdim)\n",
    "        return y"
   ]
  },
  {
   "cell_type": "code",
   "execution_count": 2,
   "id": "9dc62a77",
   "metadata": {
    "execution": {
     "iopub.execute_input": "2024-05-23T11:45:50.990651Z",
     "iopub.status.busy": "2024-05-23T11:45:50.990229Z",
     "iopub.status.idle": "2024-05-23T11:45:50.998080Z",
     "shell.execute_reply": "2024-05-23T11:45:50.997034Z"
    },
    "papermill": {
     "duration": 0.0141,
     "end_time": "2024-05-23T11:45:51.000329",
     "exception": false,
     "start_time": "2024-05-23T11:45:50.986229",
     "status": "completed"
    },
    "tags": []
   },
   "outputs": [],
   "source": [
    "class ChebyshevKANModel(nn.Module):\n",
    "    def __init__(self, degree):\n",
    "        super(ChebyshevKANModel, self).__init__()\n",
    "        self.chebyshevkan1 = ChebyshevKANLayer(28*28, 64, degree)\n",
    "        self.layernorm1 = nn.LayerNorm(64)\n",
    "        self.chebyshevkan2 = ChebyshevKANLayer(64, 10, degree)\n",
    "        self.layernorm2 = nn.LayerNorm(10)\n",
    "        self.relu = nn.ReLU()\n",
    "\n",
    "    def forward(self, x):\n",
    "        x = x.view(x.size(0), -1)\n",
    "        x = self.chebyshevkan1(x)\n",
    "        x = self.layernorm1(x)\n",
    "        x = self.relu(x)\n",
    "        x = self.chebyshevkan2(x)\n",
    "        x = self.layernorm2(x)\n",
    "        return x"
   ]
  },
  {
   "cell_type": "code",
   "execution_count": 3,
   "id": "193fa414",
   "metadata": {
    "execution": {
     "iopub.execute_input": "2024-05-23T11:45:51.007703Z",
     "iopub.status.busy": "2024-05-23T11:45:51.007395Z",
     "iopub.status.idle": "2024-05-23T11:45:53.529295Z",
     "shell.execute_reply": "2024-05-23T11:45:53.528131Z"
    },
    "papermill": {
     "duration": 2.528766,
     "end_time": "2024-05-23T11:45:53.532100",
     "exception": false,
     "start_time": "2024-05-23T11:45:51.003334",
     "status": "completed"
    },
    "tags": []
   },
   "outputs": [
    {
     "name": "stdout",
     "output_type": "stream",
     "text": [
      "Downloading http://yann.lecun.com/exdb/mnist/train-images-idx3-ubyte.gz\n",
      "Failed to download (trying next):\n",
      "HTTP Error 403: Forbidden\n",
      "\n",
      "Downloading https://ossci-datasets.s3.amazonaws.com/mnist/train-images-idx3-ubyte.gz\n",
      "Downloading https://ossci-datasets.s3.amazonaws.com/mnist/train-images-idx3-ubyte.gz to ./data/MNIST/raw/train-images-idx3-ubyte.gz\n"
     ]
    },
    {
     "name": "stderr",
     "output_type": "stream",
     "text": [
      "100%|██████████| 9912422/9912422 [00:00<00:00, 33368174.69it/s]\n"
     ]
    },
    {
     "name": "stdout",
     "output_type": "stream",
     "text": [
      "Extracting ./data/MNIST/raw/train-images-idx3-ubyte.gz to ./data/MNIST/raw\n",
      "\n",
      "Downloading http://yann.lecun.com/exdb/mnist/train-labels-idx1-ubyte.gz\n",
      "Failed to download (trying next):\n",
      "HTTP Error 403: Forbidden\n",
      "\n",
      "Downloading https://ossci-datasets.s3.amazonaws.com/mnist/train-labels-idx1-ubyte.gz\n",
      "Downloading https://ossci-datasets.s3.amazonaws.com/mnist/train-labels-idx1-ubyte.gz to ./data/MNIST/raw/train-labels-idx1-ubyte.gz\n"
     ]
    },
    {
     "name": "stderr",
     "output_type": "stream",
     "text": [
      "100%|██████████| 28881/28881 [00:00<00:00, 1029636.41it/s]"
     ]
    },
    {
     "name": "stdout",
     "output_type": "stream",
     "text": [
      "Extracting ./data/MNIST/raw/train-labels-idx1-ubyte.gz to ./data/MNIST/raw\n",
      "\n",
      "Downloading http://yann.lecun.com/exdb/mnist/t10k-images-idx3-ubyte.gz\n"
     ]
    },
    {
     "name": "stderr",
     "output_type": "stream",
     "text": [
      "\n"
     ]
    },
    {
     "name": "stdout",
     "output_type": "stream",
     "text": [
      "Failed to download (trying next):\n",
      "HTTP Error 403: Forbidden\n",
      "\n",
      "Downloading https://ossci-datasets.s3.amazonaws.com/mnist/t10k-images-idx3-ubyte.gz\n",
      "Downloading https://ossci-datasets.s3.amazonaws.com/mnist/t10k-images-idx3-ubyte.gz to ./data/MNIST/raw/t10k-images-idx3-ubyte.gz\n"
     ]
    },
    {
     "name": "stderr",
     "output_type": "stream",
     "text": [
      "100%|██████████| 1648877/1648877 [00:00<00:00, 8376502.06it/s]\n"
     ]
    },
    {
     "name": "stdout",
     "output_type": "stream",
     "text": [
      "Extracting ./data/MNIST/raw/t10k-images-idx3-ubyte.gz to ./data/MNIST/raw\n",
      "\n",
      "Downloading http://yann.lecun.com/exdb/mnist/t10k-labels-idx1-ubyte.gz\n",
      "Failed to download (trying next):\n",
      "HTTP Error 403: Forbidden\n",
      "\n",
      "Downloading https://ossci-datasets.s3.amazonaws.com/mnist/t10k-labels-idx1-ubyte.gz\n",
      "Downloading https://ossci-datasets.s3.amazonaws.com/mnist/t10k-labels-idx1-ubyte.gz to ./data/MNIST/raw/t10k-labels-idx1-ubyte.gz\n"
     ]
    },
    {
     "name": "stderr",
     "output_type": "stream",
     "text": [
      "100%|██████████| 4542/4542 [00:00<00:00, 2405066.12it/s]"
     ]
    },
    {
     "name": "stdout",
     "output_type": "stream",
     "text": [
      "Extracting ./data/MNIST/raw/t10k-labels-idx1-ubyte.gz to ./data/MNIST/raw\n",
      "\n"
     ]
    },
    {
     "name": "stderr",
     "output_type": "stream",
     "text": [
      "\n"
     ]
    }
   ],
   "source": [
    "# Training and validation functions\n",
    "def train(model, train_loader, criterion, optimizer, device):\n",
    "    model.train()\n",
    "    total_loss = 0\n",
    "    for data, target in train_loader:\n",
    "        data, target = data.to(device), target.to(device)\n",
    "        optimizer.zero_grad()\n",
    "        output = model(data)\n",
    "        loss = criterion(output, target)\n",
    "        loss.backward()\n",
    "        optimizer.step()\n",
    "        total_loss += loss.item()\n",
    "    return total_loss / len(train_loader)\n",
    "\n",
    "def validate(model, test_loader, criterion, device):\n",
    "    model.eval()\n",
    "    total_loss = 0\n",
    "    correct = 0\n",
    "    with torch.no_grad():\n",
    "        for data, target in test_loader:\n",
    "            data, target = data.to(device), target.to(device)\n",
    "            output = model(data)\n",
    "            loss = criterion(output, target)\n",
    "            total_loss += loss.item()\n",
    "            pred = output.argmax(dim=1, keepdim=True)\n",
    "            correct += pred.eq(target.view_as(pred)).sum().item()\n",
    "    return total_loss / len(test_loader), correct / len(test_loader.dataset)\n",
    "\n",
    "# Data loading and transformations\n",
    "transform = transforms.Compose([\n",
    "    transforms.ToTensor(),\n",
    "    transforms.Normalize((0.3,), (0.2,))\n",
    "])\n",
    "\n",
    "train_dataset = datasets.MNIST(root='./data', train=True, download=True, transform=transform)\n",
    "test_dataset = datasets.MNIST(root='./data', train=False, download=True, transform=transform)\n",
    "\n",
    "device = torch.device(\"cuda\" if torch.cuda.is_available() else \"cpu\")"
   ]
  },
  {
   "cell_type": "code",
   "execution_count": 4,
   "id": "cbfa6a67",
   "metadata": {
    "execution": {
     "iopub.execute_input": "2024-05-23T11:45:53.544890Z",
     "iopub.status.busy": "2024-05-23T11:45:53.544079Z",
     "iopub.status.idle": "2024-05-23T11:49:42.481510Z",
     "shell.execute_reply": "2024-05-23T11:49:42.480307Z"
    },
    "papermill": {
     "duration": 228.952975,
     "end_time": "2024-05-23T11:49:42.490616",
     "exception": false,
     "start_time": "2024-05-23T11:45:53.537641",
     "status": "completed"
    },
    "tags": []
   },
   "outputs": [
    {
     "name": "stdout",
     "output_type": "stream",
     "text": [
      "Epoch 1, Train Loss: 0.4384, Test Loss: 0.2184, Test Acc: 0.94\n",
      "Epoch 2, Train Loss: 0.1948, Test Loss: 0.1547, Test Acc: 0.96\n",
      "Epoch 3, Train Loss: 0.1449, Test Loss: 0.1639, Test Acc: 0.95\n",
      "Epoch 4, Train Loss: 0.1183, Test Loss: 0.1358, Test Acc: 0.96\n",
      "Epoch 5, Train Loss: 0.0992, Test Loss: 0.1201, Test Acc: 0.96\n",
      "Epoch 6, Train Loss: 0.0839, Test Loss: 0.1288, Test Acc: 0.96\n",
      "Epoch 7, Train Loss: 0.0748, Test Loss: 0.1191, Test Acc: 0.96\n",
      "Epoch 8, Train Loss: 0.0662, Test Loss: 0.1378, Test Acc: 0.96\n",
      "Epoch 9, Train Loss: 0.0584, Test Loss: 0.1095, Test Acc: 0.97\n",
      "Epoch 10, Train Loss: 0.0525, Test Loss: 0.1187, Test Acc: 0.97\n"
     ]
    }
   ],
   "source": [
    "# Hyperparameters\n",
    "learning_rate = 0.001\n",
    "batch_size = 32\n",
    "degree = 2\n",
    "\n",
    "# Prepare data loaders\n",
    "train_loader = DataLoader(train_dataset, batch_size=batch_size, shuffle=True)\n",
    "test_loader = DataLoader(test_dataset, batch_size=1024, shuffle=False)\n",
    "\n",
    "# Initialize the model, criterion, and optimizer\n",
    "model = ChebyshevKANModel(degree).to(device)\n",
    "criterion = nn.CrossEntropyLoss()\n",
    "optimizer = optim.Adam(model.parameters(), lr=learning_rate)\n",
    "\n",
    "# Training and validation loop\n",
    "epochs = 10\n",
    "train_losses = []\n",
    "test_losses = []\n",
    "test_accuracies = []\n",
    "\n",
    "for epoch in range(epochs):\n",
    "    train_loss = train(model, train_loader, criterion, optimizer, device)\n",
    "    test_loss, test_accuracy = validate(model, test_loader, criterion, device)\n",
    "\n",
    "    train_losses.append(train_loss)\n",
    "    test_losses.append(test_loss)\n",
    "    test_accuracies.append(test_accuracy)\n",
    "\n",
    "    print(f'Epoch {epoch + 1}, Train Loss: {train_loss:.4f}, '\n",
    "          f'Test Loss: {test_loss:.4f}, Test Acc: {test_accuracy:.2f}')"
   ]
  },
  {
   "cell_type": "code",
   "execution_count": 5,
   "id": "d779fcc5",
   "metadata": {
    "execution": {
     "iopub.execute_input": "2024-05-23T11:49:42.505693Z",
     "iopub.status.busy": "2024-05-23T11:49:42.505307Z",
     "iopub.status.idle": "2024-05-23T11:49:43.423035Z",
     "shell.execute_reply": "2024-05-23T11:49:43.421843Z"
    },
    "papermill": {
     "duration": 0.928434,
     "end_time": "2024-05-23T11:49:43.425666",
     "exception": false,
     "start_time": "2024-05-23T11:49:42.497232",
     "status": "completed"
    },
    "tags": []
   },
   "outputs": [
    {
     "data": {
      "image/png": "[encoded data removed]",
      "text/plain": [
       "<Figure size 1200x500 with 2 Axes>"
      ]
     },
     "metadata": {},
     "output_type": "display_data"
    }
   ],
   "source": [
    "import matplotlib.pyplot as plt\n",
    "# Plotting training and validation loss\n",
    "plt.figure(figsize=(12, 5))\n",
    "\n",
    "plt.subplot(1, 2, 1)\n",
    "plt.plot(range(1, epochs + 1), train_losses, label='Train Loss')\n",
    "plt.plot(range(1, epochs + 1), test_losses, label='Validation Loss')\n",
    "plt.xlabel('Epochs')\n",
    "plt.ylabel('Loss')\n",
    "plt.title('Training and Validation Loss')\n",
    "plt.legend()\n",
    "\n",
    "# Plotting validation accuracy\n",
    "plt.subplot(1, 2, 2)\n",
    "plt.plot(range(1, epochs + 1), test_accuracies, label='Validation Accuracy', color='orange')\n",
    "plt.xlabel('Epochs')\n",
    "plt.ylabel('Accuracy')\n",
    "plt.title('Validation Accuracy')\n",
    "plt.legend()\n",
    "\n",
    "plt.tight_layout()\n",
    "plt.show()"
   ]
  },
  {
   "cell_type": "code",
   "execution_count": null,
   "id": "79c79d64",
   "metadata": {
    "papermill": {
     "duration": 0.007929,
     "end_time": "2024-05-23T11:49:43.441573",
     "exception": false,
     "start_time": "2024-05-23T11:49:43.433644",
     "status": "completed"
    },
    "tags": []
   },
   "outputs": [],
   "source": []
  }
 ],
 "metadata": {
  "kaggle": {
   "accelerator": "none",
   "dataSources": [],
   "dockerImageVersionId": 30698,
   "isGpuEnabled": false,
   "isInternetEnabled": true,
   "language": "python",
   "sourceType": "notebook"
  },
  "kernelspec": {
   "display_name": "Python 3",
   "language": "python",
   "name": "python3"
  },
  "language_info": {
   "codemirror_mode": {
    "name": "ipython",
    "version": 3
   },
   "file_extension": ".py",
   "mimetype": "text/x-python",
   "name": "python",
   "nbconvert_exporter": "python",
   "pygments_lexer": "ipython3",
   "version": "3.10.13"
  },
  "papermill": {
   "default_parameters": {},
   "duration": 244.15382,
   "end_time": "2024-05-23T11:49:45.858672",
   "environment_variables": {},
   "exception": null,
   "input_path": "__notebook__.ipynb",
   "output_path": "__notebook__.ipynb",
   "parameters": {},
   "start_time": "2024-05-23T11:45:41.704852",
   "version": "2.5.0"
  }
 },
 "nbformat": 4,
 "nbformat_minor": 5
}
