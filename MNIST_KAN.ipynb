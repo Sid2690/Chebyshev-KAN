{
  "cells": [
    {
      "cell_type": "code",
      "execution_count": null,
      "id": "8e86f76f",
      "metadata": {
        "_cell_guid": "b1076dfc-b9ad-4769-8c92-a6c4dae69d19",
        "_uuid": "8f2839f25d086af736a60e9eeb907d3b93b6e0e5",
        "execution": {
          "iopub.execute_input": "2024-05-21T19:18:00.148573Z",
          "iopub.status.busy": "2024-05-21T19:18:00.148139Z",
          "iopub.status.idle": "2024-05-21T19:18:07.861852Z",
          "shell.execute_reply": "2024-05-21T19:18:07.860413Z"
        },
        "papermill": {
          "duration": 7.723159,
          "end_time": "2024-05-21T19:18:07.865157",
          "exception": false,
          "start_time": "2024-05-21T19:18:00.141998",
          "status": "completed"
        },
        "tags": [],
        "id": "8e86f76f"
      },
      "outputs": [],
      "source": [
        "import torch\n",
        "import torch.nn as nn\n",
        "import torch.optim as optim\n",
        "from torchvision import datasets, transforms\n",
        "from torch.utils.data import DataLoader\n",
        "import matplotlib.pyplot as plt\n",
        "\n",
        "class ChebyshevKANLayer(nn.Module):\n",
        "    def __init__(self, input_dim, output_dim, degree):\n",
        "        super(ChebyshevKANLayer, self).__init__()\n",
        "        self.inputdim = input_dim\n",
        "        self.outdim = output_dim\n",
        "        self.degree = degree\n",
        "\n",
        "        self.cheby_coeffs = nn.Parameter(torch.empty(input_dim, output_dim, degree + 1))\n",
        "        nn.init.xavier_normal_(self.cheby_coeffs)\n",
        "        self.register_buffer(\"arange\", torch.arange(0, degree + 1, 1))\n",
        "\n",
        "    def chebyshev_polynomials(self, x):\n",
        "        T = [torch.ones_like(x), x]\n",
        "        for n in range(2, self.degree + 1):\n",
        "            T.append(2 * x * T[n - 1] - T[n - 2])\n",
        "        return torch.stack(T, dim=-1)\n",
        "\n",
        "    def forward(self, x):\n",
        "        x = x.view(-1, self.inputdim)\n",
        "        T = self.chebyshev_polynomials(x)\n",
        "        y = torch.einsum(\"bij,ioj->bo\", T, self.cheby_coeffs)\n",
        "        y = y.view(-1, self.outdim)\n",
        "        return y"
      ]
    },
    {
      "cell_type": "code",
      "execution_count": null,
      "id": "198bf2be",
      "metadata": {
        "execution": {
          "iopub.execute_input": "2024-05-21T19:18:07.874184Z",
          "iopub.status.busy": "2024-05-21T19:18:07.873026Z",
          "iopub.status.idle": "2024-05-21T19:18:07.881910Z",
          "shell.execute_reply": "2024-05-21T19:18:07.880846Z"
        },
        "papermill": {
          "duration": 0.016294,
          "end_time": "2024-05-21T19:18:07.884821",
          "exception": false,
          "start_time": "2024-05-21T19:18:07.868527",
          "status": "completed"
        },
        "tags": [],
        "id": "198bf2be"
      },
      "outputs": [],
      "source": [
        "class Model(nn.Module):\n",
        "    def __init__(self):\n",
        "        super(Model, self).__init__()\n",
        "        self.chebyshevkan1 = ChebyshevKANLayer(28*28, 64, 4)\n",
        "        self.layernorm1 = nn.LayerNorm(64)\n",
        "        self.chebyshevkan2 = ChebyshevKANLayer(64, 10, 4)\n",
        "        self.layernorm2 = nn.LayerNorm(10)\n",
        "        self.relu = nn.ReLU()\n",
        "\n",
        "    def forward(self, x):\n",
        "        x = x.view(x.size(0), -1)\n",
        "        x = self.chebyshevkan1(x)\n",
        "        x = self.layernorm1(x)\n",
        "        x = self.chebyshevkan2(x)\n",
        "        x = self.layernorm2(x)\n",
        "        return x"
      ]
    },
    {
      "cell_type": "code",
      "execution_count": null,
      "id": "3d99ac66",
      "metadata": {
        "execution": {
          "iopub.execute_input": "2024-05-21T19:18:07.892525Z",
          "iopub.status.busy": "2024-05-21T19:18:07.892132Z",
          "iopub.status.idle": "2024-05-21T19:18:07.903902Z",
          "shell.execute_reply": "2024-05-21T19:18:07.902651Z"
        },
        "papermill": {
          "duration": 0.018245,
          "end_time": "2024-05-21T19:18:07.906193",
          "exception": false,
          "start_time": "2024-05-21T19:18:07.887948",
          "status": "completed"
        },
        "tags": [],
        "id": "3d99ac66"
      },
      "outputs": [],
      "source": [
        "# Training and validation functions\n",
        "def train(model, train_loader, criterion, optimizer, device):\n",
        "    model.train()\n",
        "    total_loss = 0\n",
        "    correct = 0\n",
        "\n",
        "    for idx, (data, target) in enumerate(train_loader):\n",
        "        data, target = data.to(device), target.to(device)\n",
        "\n",
        "        optimizer.zero_grad()\n",
        "        output = model(data)\n",
        "        loss = criterion(output, target)\n",
        "        loss.backward()\n",
        "        optimizer.step()\n",
        "        total_loss += loss.item()\n",
        "\n",
        "    return total_loss / len(train_loader)\n",
        "\n",
        "def validate(model, test_loader, criterion, device):\n",
        "    model.eval()\n",
        "    total_loss = 0\n",
        "    correct = 0\n",
        "    with torch.no_grad():\n",
        "        for data, target in test_loader:\n",
        "            data, target = data.to(device), target.to(device)\n",
        "            output = model(data)\n",
        "            loss = criterion(output, target)\n",
        "            total_loss += loss.item()\n",
        "            pred = output.argmax(dim=1, keepdim=True)\n",
        "            correct += pred.eq(target.view_as(pred)).sum().item()\n",
        "\n",
        "    return total_loss / len(test_loader), correct / len(test_loader.dataset)\n"
      ]
    },
    {
      "cell_type": "code",
      "execution_count": null,
      "id": "5e8a6bc8",
      "metadata": {
        "execution": {
          "iopub.execute_input": "2024-05-21T19:18:07.914048Z",
          "iopub.status.busy": "2024-05-21T19:18:07.913322Z",
          "iopub.status.idle": "2024-05-21T19:21:55.908809Z",
          "shell.execute_reply": "2024-05-21T19:21:55.907497Z"
        },
        "papermill": {
          "duration": 228.002702,
          "end_time": "2024-05-21T19:21:55.911869",
          "exception": false,
          "start_time": "2024-05-21T19:18:07.909167",
          "status": "completed"
        },
        "tags": [],
        "id": "5e8a6bc8",
        "outputId": "8b02f82b-b5ce-4f70-f090-54b23c6816a6"
      },
      "outputs": [
        {
          "name": "stdout",
          "output_type": "stream",
          "text": [
            "Downloading http://yann.lecun.com/exdb/mnist/train-images-idx3-ubyte.gz\n",
            "Failed to download (trying next):\n",
            "HTTP Error 403: Forbidden\n",
            "\n",
            "Downloading https://ossci-datasets.s3.amazonaws.com/mnist/train-images-idx3-ubyte.gz\n",
            "Downloading https://ossci-datasets.s3.amazonaws.com/mnist/train-images-idx3-ubyte.gz to ./data/MNIST/raw/train-images-idx3-ubyte.gz\n"
          ]
        },
        {
          "name": "stderr",
          "output_type": "stream",
          "text": [
            "100%|██████████| 9912422/9912422 [00:00<00:00, 11477552.21it/s]\n"
          ]
        },
        {
          "name": "stdout",
          "output_type": "stream",
          "text": [
            "Extracting ./data/MNIST/raw/train-images-idx3-ubyte.gz to ./data/MNIST/raw\n",
            "\n",
            "Downloading http://yann.lecun.com/exdb/mnist/train-labels-idx1-ubyte.gz\n",
            "Failed to download (trying next):\n",
            "HTTP Error 403: Forbidden\n",
            "\n",
            "Downloading https://ossci-datasets.s3.amazonaws.com/mnist/train-labels-idx1-ubyte.gz\n",
            "Downloading https://ossci-datasets.s3.amazonaws.com/mnist/train-labels-idx1-ubyte.gz to ./data/MNIST/raw/train-labels-idx1-ubyte.gz\n"
          ]
        },
        {
          "name": "stderr",
          "output_type": "stream",
          "text": [
            "100%|██████████| 28881/28881 [00:00<00:00, 344540.72it/s]\n"
          ]
        },
        {
          "name": "stdout",
          "output_type": "stream",
          "text": [
            "Extracting ./data/MNIST/raw/train-labels-idx1-ubyte.gz to ./data/MNIST/raw\n",
            "\n",
            "Downloading http://yann.lecun.com/exdb/mnist/t10k-images-idx3-ubyte.gz\n",
            "Failed to download (trying next):\n",
            "HTTP Error 403: Forbidden\n",
            "\n",
            "Downloading https://ossci-datasets.s3.amazonaws.com/mnist/t10k-images-idx3-ubyte.gz\n",
            "Downloading https://ossci-datasets.s3.amazonaws.com/mnist/t10k-images-idx3-ubyte.gz to ./data/MNIST/raw/t10k-images-idx3-ubyte.gz\n"
          ]
        },
        {
          "name": "stderr",
          "output_type": "stream",
          "text": [
            "100%|██████████| 1648877/1648877 [00:00<00:00, 3145541.52it/s]\n"
          ]
        },
        {
          "name": "stdout",
          "output_type": "stream",
          "text": [
            "Extracting ./data/MNIST/raw/t10k-images-idx3-ubyte.gz to ./data/MNIST/raw\n",
            "\n",
            "Downloading http://yann.lecun.com/exdb/mnist/t10k-labels-idx1-ubyte.gz\n",
            "Failed to download (trying next):\n",
            "HTTP Error 403: Forbidden\n",
            "\n",
            "Downloading https://ossci-datasets.s3.amazonaws.com/mnist/t10k-labels-idx1-ubyte.gz\n",
            "Downloading https://ossci-datasets.s3.amazonaws.com/mnist/t10k-labels-idx1-ubyte.gz to ./data/MNIST/raw/t10k-labels-idx1-ubyte.gz\n"
          ]
        },
        {
          "name": "stderr",
          "output_type": "stream",
          "text": [
            "100%|██████████| 4542/4542 [00:00<00:00, 1049442.45it/s]\n"
          ]
        },
        {
          "name": "stdout",
          "output_type": "stream",
          "text": [
            "Extracting ./data/MNIST/raw/t10k-labels-idx1-ubyte.gz to ./data/MNIST/raw\n",
            "\n",
            "Epoch 1, Train Loss: 0.3083, Test Loss: 0.1909, Test Acc: 0.94\n",
            "Epoch 2, Train Loss: 0.1537, Test Loss: 0.1561, Test Acc: 0.95\n",
            "Epoch 3, Train Loss: 0.1163, Test Loss: 0.1549, Test Acc: 0.95\n",
            "Epoch 4, Train Loss: 0.0943, Test Loss: 0.1422, Test Acc: 0.96\n",
            "Epoch 5, Train Loss: 0.0789, Test Loss: 0.1551, Test Acc: 0.96\n",
            "Epoch 6, Train Loss: 0.0703, Test Loss: 0.1441, Test Acc: 0.96\n",
            "Epoch 7, Train Loss: 0.0618, Test Loss: 0.1618, Test Acc: 0.96\n",
            "Epoch 8, Train Loss: 0.0562, Test Loss: 0.1387, Test Acc: 0.96\n",
            "Epoch 9, Train Loss: 0.0488, Test Loss: 0.1446, Test Acc: 0.96\n",
            "Epoch 10, Train Loss: 0.0446, Test Loss: 0.1771, Test Acc: 0.96\n"
          ]
        },
        {
          "data": {
            "image/png": "[encoded data removed]",
            "text/plain": [
              "<Figure size 1000x500 with 1 Axes>"
            ]
          },
          "metadata": {},
          "output_type": "display_data"
        }
      ],
      "source": [
        "# Data loading and transformations\n",
        "transform = transforms.Compose([\n",
        "    transforms.ToTensor(),\n",
        "    transforms.Normalize((0.3,), (0.2,))\n",
        "])\n",
        "\n",
        "train_dataset = datasets.MNIST(root='./data', train=True, download=True, transform=transform)\n",
        "test_dataset = datasets.MNIST(root='./data', train=False, download=True, transform=transform)\n",
        "\n",
        "train_loader = DataLoader(train_dataset, batch_size=64, shuffle=True)\n",
        "test_loader = DataLoader(test_dataset, batch_size=1024, shuffle=False)\n",
        "\n",
        "device = torch.device(\"cuda\" if torch.cuda.is_available() else \"cpu\")\n",
        "\n",
        "model = Model().to(device)\n",
        "total_params = sum(p.numel() for p in model.parameters() if p.requires_grad)\n",
        "criterion = nn.CrossEntropyLoss()\n",
        "optimizer = optim.Adam(model.parameters(), lr=0.008)\n",
        "\n",
        "# Training loop\n",
        "epochs = 10\n",
        "train_losses = []\n",
        "test_losses = []\n",
        "\n",
        "for epoch in range(epochs):\n",
        "    train_loss = train(model, train_loader, criterion, optimizer, device)\n",
        "    test_loss, test_accuracy = validate(model, test_loader, criterion, device)\n",
        "\n",
        "    train_losses.append(train_loss)\n",
        "    test_losses.append(test_loss)\n",
        "\n",
        "    print(f'Epoch {epoch + 1}, Train Loss: {train_loss:.4f}, '\n",
        "          f'Test Loss: {test_loss:.4f}, Test Acc: {test_accuracy:.2f}')\n",
        "\n",
        "# Plotting the results\n",
        "plt.figure(figsize=(10, 5))\n",
        "plt.plot(range(1, epochs + 1), train_losses, label='Train Loss')\n",
        "plt.plot(range(1, epochs + 1), test_losses, label='Test Loss')\n",
        "plt.title('Train and Test Loss Over Epochs')\n",
        "plt.xlabel('Epochs')\n",
        "plt.ylabel('Loss')\n",
        "plt.legend()\n",
        "plt.grid(True)\n",
        "plt.show()"
      ]
    },
    {
      "cell_type": "markdown",
      "source": [
        "### The model is currently not optimized (with the possibility of hyperparameter tuning still pending). There are numerous opportunities for improvement, and we will continue experimenting. Updates will be shared soon."
      ],
      "metadata": {
        "id": "5Xn-h5qNnPC7"
      },
      "id": "5Xn-h5qNnPC7"
    }
  ],
  "metadata": {
    "kaggle": {
      "accelerator": "none",
      "dataSources": [],
      "dockerImageVersionId": 30698,
      "isGpuEnabled": false,
      "isInternetEnabled": true,
      "language": "python",
      "sourceType": "notebook"
    },
    "kernelspec": {
      "display_name": "Python 3",
      "language": "python",
      "name": "python3"
    },
    "language_info": {
      "codemirror_mode": {
        "name": "ipython",
        "version": 3
      },
      "file_extension": ".py",
      "mimetype": "text/x-python",
      "name": "python",
      "nbconvert_exporter": "python",
      "pygments_lexer": "ipython3",
      "version": "3.10.13"
    },
    "papermill": {
      "default_parameters": {},
      "duration": 241.3547,
      "end_time": "2024-05-21T19:21:58.220462",
      "environment_variables": {},
      "exception": null,
      "input_path": "__notebook__.ipynb",
      "output_path": "__notebook__.ipynb",
      "parameters": {},
      "start_time": "2024-05-21T19:17:56.865762",
      "version": "2.5.0"
    },
    "colab": {
      "provenance": []
    }
  },
  "nbformat": 4,
  "nbformat_minor": 5
}
